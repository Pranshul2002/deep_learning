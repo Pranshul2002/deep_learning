{
  "nbformat": 4,
  "nbformat_minor": 0,
  "metadata": {
    "colab": {
      "name": "Untitled5.ipynb",
      "provenance": [],
      "collapsed_sections": [],
      "authorship_tag": "ABX9TyMKpD+9XUTcn8Vg1AUehAvk",
      "include_colab_link": true
    },
    "kernelspec": {
      "name": "python3",
      "display_name": "Python 3"
    },
    "accelerator": "GPU"
  },
  "cells": [
    {
      "cell_type": "markdown",
      "metadata": {
        "id": "view-in-github",
        "colab_type": "text"
      },
      "source": [
        "<a href=\"https://colab.research.google.com/github/Pranshul2002/deep_learning/blob/master/simple_cnn_model.ipynb\" target=\"_parent\"><img src=\"https://colab.research.google.com/assets/colab-badge.svg\" alt=\"Open In Colab\"/></a>"
      ]
    },
    {
      "cell_type": "code",
      "metadata": {
        "id": "v5o0k3TAwCFI",
        "colab_type": "code",
        "colab": {
          "base_uri": "https://localhost:8080/",
          "height": 68
        },
        "outputId": "75db810a-8247-4285-e4db-4582ff7ebdbf"
      },
      "source": [
        "!pip install protobuf"
      ],
      "execution_count": 24,
      "outputs": [
        {
          "output_type": "stream",
          "text": [
            "Requirement already satisfied: protobuf in /usr/local/lib/python3.6/dist-packages (3.10.0)\n",
            "Requirement already satisfied: setuptools in /usr/local/lib/python3.6/dist-packages (from protobuf) (47.1.1)\n",
            "Requirement already satisfied: six>=1.9 in /usr/local/lib/python3.6/dist-packages (from protobuf) (1.12.0)\n"
          ],
          "name": "stdout"
        }
      ]
    },
    {
      "cell_type": "code",
      "metadata": {
        "id": "NiUa2MGBwyD3",
        "colab_type": "code",
        "colab": {}
      },
      "source": [
        "import tensorflow as tf\n",
        "from tensorflow import keras\n",
        "from tensorflow.keras import layers\n",
        "import tensorflow_datasets as tfds\n",
        "import numpy as np\n",
        "import matplotlib.pyplot as plt\n",
        "from PIL import Image"
      ],
      "execution_count": 25,
      "outputs": []
    },
    {
      "cell_type": "code",
      "metadata": {
        "id": "l0Rkf3BMxGhI",
        "colab_type": "code",
        "colab": {}
      },
      "source": [
        ""
      ],
      "execution_count": 25,
      "outputs": []
    },
    {
      "cell_type": "code",
      "metadata": {
        "id": "iNpp5Znh1t08",
        "colab_type": "code",
        "colab": {}
      },
      "source": [
        "def model():\n",
        "  mod = tf.keras.Sequential([\n",
        "        layers.Conv2D(16,(3,3),input_shape=(28,28,1)), #output size = 26\n",
        "        layers.MaxPool2D(strides=(2,2)), #output size = 13\n",
        "        layers.Conv2D(32,(3,3)), #output size = 11\n",
        "        layers.MaxPool2D(strides=(2,2)), #output size = 6\n",
        "        layers.Flatten(),\n",
        "        layers.Dense(32, activation= \"relu\"),\n",
        "        layers.Dense(16,activation=\"relu\"),\n",
        "        layers.Dense(10,activation=\"sigmoid\")        \n",
        "  ])\n",
        "  return mod\n"
      ],
      "execution_count": 26,
      "outputs": []
    },
    {
      "cell_type": "code",
      "metadata": {
        "id": "63YzR1PuxXa-",
        "colab_type": "code",
        "colab": {
          "base_uri": "https://localhost:8080/",
          "height": 51
        },
        "outputId": "d8beaf17-f93a-4c3c-a5c9-069093d5004c"
      },
      "source": [
        "# batch_size=-1 to get the full dataset in NumPy arrays from the returned tf.Tensor object\n",
        "mnist_train = tfds.load(name=\"mnist\", split=tfds.Split.TRAIN, batch_size=-1 ) \n",
        "mnist_test = tfds.load(name=\"mnist\", split=tfds.Split.TEST, batch_size=-1)\n",
        "\n",
        "# tfds.as_numpy return a generator that yields NumPy array records out of a tf.data.Dataset\n",
        "mnist_train = tfds.as_numpy(mnist_train) \n",
        "mnist_test = tfds.as_numpy(mnist_test)\n",
        "\n",
        "x_train, y_train = mnist_train[\"image\"], mnist_train[\"label\"] # seperate the x and y\n",
        "x_test, y_test = mnist_test[\"image\"], mnist_test[\"label\"]\n",
        "print(x_train.shape)\n",
        "y_train = tf.one_hot(y_train,10)\n",
        "y_test = tf.one_hot(y_test,10)\n",
        "print(y_train.shape)"
      ],
      "execution_count": 31,
      "outputs": [
        {
          "output_type": "stream",
          "text": [
            "(60000, 28, 28, 1)\n",
            "(60000, 10)\n"
          ],
          "name": "stdout"
        }
      ]
    },
    {
      "cell_type": "code",
      "metadata": {
        "id": "c__QqLzsxZli",
        "colab_type": "code",
        "colab": {
          "base_uri": "https://localhost:8080/",
          "height": 799
        },
        "outputId": "4166d8d3-5df4-41c5-d0e7-c5ac6cd801b1"
      },
      "source": [
        "mod = model()\n",
        "print(mod.summary())\n",
        "mod.compile(optimizer=tf.keras.optimizers.Adam(0.0001),loss=tf.keras.losses.binary_crossentropy,metrics=[\"accuracy\"])\n",
        "mod.fit(x = x_train,y=y_train,epochs=10,validation_split=0.1)"
      ],
      "execution_count": 30,
      "outputs": [
        {
          "output_type": "stream",
          "text": [
            "Model: \"sequential_13\"\n",
            "_________________________________________________________________\n",
            "Layer (type)                 Output Shape              Param #   \n",
            "=================================================================\n",
            "conv2d_26 (Conv2D)           (None, 26, 26, 16)        160       \n",
            "_________________________________________________________________\n",
            "max_pooling2d_26 (MaxPooling (None, 13, 13, 16)        0         \n",
            "_________________________________________________________________\n",
            "conv2d_27 (Conv2D)           (None, 11, 11, 32)        4640      \n",
            "_________________________________________________________________\n",
            "max_pooling2d_27 (MaxPooling (None, 5, 5, 32)          0         \n",
            "_________________________________________________________________\n",
            "flatten_13 (Flatten)         (None, 800)               0         \n",
            "_________________________________________________________________\n",
            "dense_39 (Dense)             (None, 32)                25632     \n",
            "_________________________________________________________________\n",
            "dense_40 (Dense)             (None, 16)                528       \n",
            "_________________________________________________________________\n",
            "dense_41 (Dense)             (None, 10)                170       \n",
            "=================================================================\n",
            "Total params: 31,130\n",
            "Trainable params: 31,130\n",
            "Non-trainable params: 0\n",
            "_________________________________________________________________\n",
            "None\n",
            "Epoch 1/10\n",
            "1688/1688 [==============================] - 9s 5ms/step - loss: 0.6332 - accuracy: 0.2393 - val_loss: 0.2964 - val_accuracy: 0.3725\n",
            "Epoch 2/10\n",
            "1688/1688 [==============================] - 9s 5ms/step - loss: 0.2314 - accuracy: 0.4292 - val_loss: 0.1890 - val_accuracy: 0.5082\n",
            "Epoch 3/10\n",
            "1688/1688 [==============================] - 9s 5ms/step - loss: 0.1566 - accuracy: 0.6328 - val_loss: 0.1218 - val_accuracy: 0.7858\n",
            "Epoch 4/10\n",
            "1688/1688 [==============================] - 9s 5ms/step - loss: 0.0936 - accuracy: 0.8571 - val_loss: 0.0685 - val_accuracy: 0.9043\n",
            "Epoch 5/10\n",
            "1688/1688 [==============================] - 9s 5ms/step - loss: 0.0568 - accuracy: 0.9224 - val_loss: 0.0480 - val_accuracy: 0.9315\n",
            "Epoch 6/10\n",
            "1688/1688 [==============================] - 9s 5ms/step - loss: 0.0423 - accuracy: 0.9420 - val_loss: 0.0392 - val_accuracy: 0.9467\n",
            "Epoch 7/10\n",
            "1688/1688 [==============================] - 9s 5ms/step - loss: 0.0351 - accuracy: 0.9509 - val_loss: 0.0334 - val_accuracy: 0.9522\n",
            "Epoch 8/10\n",
            "1688/1688 [==============================] - 9s 5ms/step - loss: 0.0299 - accuracy: 0.9589 - val_loss: 0.0342 - val_accuracy: 0.9513\n",
            "Epoch 9/10\n",
            "1688/1688 [==============================] - 9s 5ms/step - loss: 0.0267 - accuracy: 0.9622 - val_loss: 0.0289 - val_accuracy: 0.9602\n",
            "Epoch 10/10\n",
            "1688/1688 [==============================] - 9s 5ms/step - loss: 0.0240 - accuracy: 0.9664 - val_loss: 0.0282 - val_accuracy: 0.9587\n"
          ],
          "name": "stdout"
        },
        {
          "output_type": "execute_result",
          "data": {
            "text/plain": [
              "<tensorflow.python.keras.callbacks.History at 0x7f1affb141d0>"
            ]
          },
          "metadata": {
            "tags": []
          },
          "execution_count": 30
        }
      ]
    },
    {
      "cell_type": "code",
      "metadata": {
        "id": "wsH2ufjZ9yfV",
        "colab_type": "code",
        "colab": {
          "base_uri": "https://localhost:8080/",
          "height": 51
        },
        "outputId": "aa7978d8-23fa-4ad4-c807-adf3bcc28d75"
      },
      "source": [
        "mod.evaluate(x=x_test,y=y_test)"
      ],
      "execution_count": 32,
      "outputs": [
        {
          "output_type": "stream",
          "text": [
            "313/313 [==============================] - 1s 3ms/step - loss: 0.0266 - accuracy: 0.9635\n"
          ],
          "name": "stdout"
        },
        {
          "output_type": "execute_result",
          "data": {
            "text/plain": [
              "[0.026555459946393967, 0.9635000228881836]"
            ]
          },
          "metadata": {
            "tags": []
          },
          "execution_count": 32
        }
      ]
    },
    {
      "cell_type": "code",
      "metadata": {
        "id": "BZHJSbdVy_pa",
        "colab_type": "code",
        "colab": {
          "base_uri": "https://localhost:8080/",
          "height": 299
        },
        "outputId": "a571b218-e4a4-4e70-dd30-d0aac846fdbb"
      },
      "source": [
        "img_no = 145\n",
        "print(np.argmax(mod.predict(x_test[img_no].reshape((1,28,28,1)))))\n",
        "plt.imshow(x_test[img_no].reshape((28,28)))\n",
        "print(np.argmax(y_test[img_no].numpy()))\n"
      ],
      "execution_count": 49,
      "outputs": [
        {
          "output_type": "stream",
          "text": [
            "6\n",
            "6\n"
          ],
          "name": "stdout"
        },
        {
          "output_type": "display_data",
          "data": {
            "image/png": "[encoded data removed]",
            "text/plain": [
              "<Figure size 432x288 with 1 Axes>"
            ]
          },
          "metadata": {
            "tags": [],
            "needs_background": "light"
          }
        }
      ]
    },
    {
      "cell_type": "code",
      "metadata": {
        "id": "wdcbFiJlzX2u",
        "colab_type": "code",
        "colab": {}
      },
      "source": [
        ""
      ],
      "execution_count": null,
      "outputs": []
    }
  ]
}